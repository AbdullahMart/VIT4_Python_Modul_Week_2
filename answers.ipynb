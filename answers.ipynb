{
 "cells": [
  {
   "cell_type": "code",
   "execution_count": null,
   "metadata": {},
   "outputs": [],
   "source": [
    "# VIT4_Python_Modul_Week_2"
   ]
  },
  {
   "cell_type": "markdown",
   "metadata": {},
   "source": [
    "###  Soru1: Öğrenci Notları İşleme\n",
    "\n",
    "Bir öğrenci notlarını işlemek için bir Python programı yazmanız gerekiyor. Programın aşağıdaki işlevleri yerine getirmesi gerekiyor:\n",
    "\n",
    "Bir sözlük kullanarak 10 öğrencinin bilgilerini ve notlarını saklayın. Her öğrencinin adı, soyadı ve notları(Vize, Final ve Sozlu notu) olsun. Örneğin:\n",
    "\n",
    "![resim](https://github.com/werhereitacademy/week_2/assets/141542413/dc91b4b6-a51c-4f5f-80a3-854d505ce48a)\n",
    "\n",
    "1-Her öğrencinin not ortalamasını hesaplayın ve sözlüğe ekleyin.\n",
    "\n",
    "2-En yüksek not ortalamasına sahip öğrenciyi bulun ve ekrana yazdırın.\n",
    "\n",
    "3-Her öğrencinin adını soyadından ayırarak ayrı bir tuple içinde saklayın ve bunları bir listeye ekleyin.\n",
    "\n",
    "4-Adları alfabetik sıraya göre sıralayın ve sıralanmış listeyi ekrana yazdırın.\n",
    "\n",
    "5-Not ortalaması 70'in altında olan öğrencileri bir küme (set) içinde saklayın."
   ]
  },
  {
   "cell_type": "code",
   "execution_count": 4,
   "metadata": {
    "tags": [
     "1.Sorunun Cevabı:"
    ]
   },
   "outputs": [],
   "source": [
    "students= {\n",
    "    \"Ahmet Yılmaz\": [85, 90, 78],\n",
    "    \"Mehmet Demir\": [92, 88, 76],\n",
    "    \"Ayşe Kaya\"   : [78, 89, 95],\n",
    "    \"Ferhat Taş\"  : [90, 68, 70],\n",
    "    \"Pelin Sarı\"  : [88, 95, 90],\n",
    "    \"Selim Gök\"   : [95, 75, 85],\n",
    "    \"Osma Arslan\" : [90, 82, 88],\n",
    "    \"Fatma Güzel\" : [73, 78, 68],\n",
    "    \"Cem Erken\"   : [82, 72, 92],\n",
    "    \"Barış Koç\"   : [92, 82, 99]\n",
    "    \n",
    "    }\n",
    "\n",
    "    "
   ]
  },
  {
   "cell_type": "markdown",
   "metadata": {},
   "source": [
    "###  Soru 2 : Film Kütüphanesi Yönetim Sistemi Projesi\n",
    "\n",
    "Proje Açıklaması: Bu proje, kullanıcının kendi film koleksiyonunu yönetmesine yardımcı olacak bir uygulama oluşturmayı amaçlar. Kullanıcılar filmleri ekleyebilir, düzenleyebilir, silebilir ve koleksiyonlarını görüntüleyebilir.\n",
    "\n",
    "Kullanılan Veri Yapıları: Sözlükler (filmleri ve ilgili bilgileri saklamak için), listeler (film koleksiyonunu görüntülemek için)\n",
    "\n",
    "Temel İşlevler:\n",
    "\n",
    "1-Kullanıcıdan film adı, yönetmen, yayın yılı ve tür gibi bilgileri alarak bir film verisi oluşturun ve bunu bir sözlükte saklayın.\n",
    "\n",
    "2-Kullanıcıya bir filmi düzenleme veya silme seçeneği sunun.(Bunun icin filme ait hangi veriyi degistirmek istiyorlarsa ona uygun bir fonksiyon yazilmasi gerekir.)\n",
    "\n",
    "3-Kullanıcının koleksiyonunu görüntülemesine izin verin. Tüm filmleri listeleyin veya tür veya yayın yılı gibi kriterlere göre filtreleyin.\n",
    "\n",
    "4-Film verilerini bir dosyada saklayın ve programı başlattığınızda bu veriyi geri yükleyin."
   ]
  },
  {
   "cell_type": "code",
   "execution_count": 2,
   "metadata": {
    "tags": [
     "2. Sorunun Cevabı:"
    ]
   },
   "outputs": [
    {
     "name": "stdout",
     "output_type": "stream",
     "text": [
      "\n",
      "|=======Movie Library Management====[-][o][x]\n",
      "|                                           |\n",
      "|       Welkome To The Movie Library!       |\n",
      "|              Version 0.1                  |\n",
      "|         Copyright@Vit 4 Group 2           |\n",
      "|                                           |\n",
      "|                                           |\n",
      "|===========================================|\n",
      "\n"
     ]
    }
   ],
   "source": [
    "print(\"\"\"\n",
    "|=======Movie Library Management====[-][o][x]\n",
    "|                                           |\n",
    "|       Welkome To The Movie Library!       |\n",
    "|              Version 0.1                  |\n",
    "|         Copyright@Vit 4 Group 2           |\n",
    "|                                           |\n",
    "|                                           |\n",
    "|===========================================|\n",
    "\"\"\")\n",
    "\n"
   ]
  },
  {
   "cell_type": "markdown",
   "metadata": {},
   "source": [
    "###  Soru 3 :Müşteri Yönetim Sistemi\n",
    "Proje Açıklaması: Bu proje, müşterilerinizi yönetmek ve temel işlemleri gerçekleştirmek için kullanabileceğiniz bir müşteri yönetim sistemi oluşturmanızı içerir. Bu sistem, müşteri bilgilerini saklama, yeni müşteri ekleyebilme, müşteri bilgilerini güncelleyebilme, müşteri silme ve müşteri listesini görüntüleme gibi temel işlevlere sahip olacaktır. İşte projenin temel adımları:\n",
    "\n",
    "1-Müşteri bilgilerini saklamak için bir sözlük yapısı kullanın. Her müşteri için bir benzersiz müşteri kimliği (ID) atayın ve müşteri bilgilerini bu kimlikle ilişkilendirin. Her müşteri için ad, soyad, e-posta, telefon gibi bilgileri içeren bir sözlük kullanabilirsiniz.\n",
    "\n",
    "2-Kullanıcıya aşağıdaki işlemleri seçebileceği bir menü sunun:\n",
    "\n",
    "* Yeni müşteri eklemek\n",
    "* Müşteri bilgilerini güncellemek\n",
    "* Müşteri silmek\n",
    "* Tüm müşterileri listelemek\n",
    "* Çıkış yapmak\n",
    "\n",
    "3-Kullanıcının seçimine göre ilgili işlemi gerçekleştirin. Örneğin, yeni müşteri eklerken kullanıcıdan gerekli bilgileri alın ve sözlüğe yeni bir müşteri ekleyin.\n",
    "\n",
    "4-Müşteri bilgilerini güncellerken, müşteri kimliğini kullanarak mevcut bilgileri görüntüleyin ve güncellenmiş bilgileri kaydedin.\n",
    "\n",
    "5-Müşteri silme işleminde kullanıcıdan müşteri kimliğini alın ve bu müşteriyi sözlükten silin.\n",
    "\n",
    "6-Tüm müşterileri listeleme işleminde, mevcut müşterilerin listesini görüntüleyin.\n",
    "\n",
    "7-Kullanıcı çıkış yapana kadar işlemleri tekrarlayın.  "
   ]
  },
  {
   "cell_type": "code",
   "execution_count": null,
   "metadata": {},
   "outputs": [],
   "source": [
    "print(\"\"\"\n",
    "|=======Customer Management System====[-][o][x]\n",
    "|                                           |\n",
    "|  Welkome To Customer Management System!   |\n",
    "|              Version 0.1                  |\n",
    "|         Copyright@Vit 4 Group 2           |\n",
    "|                                           |\n",
    "|                                           |\n",
    "|===========================================|\n",
    "\"\"\")\n",
    "\n",
    "customers = {}\n",
    "\n",
    "while True:\n",
    "    print(\"Menu:\")\n",
    "    print(\"1. Add a new customer\")\n",
    "    print(\"2. Update customer information\")\n",
    "    print(\"3. Delete a customer\")\n",
    "    print(\"4. List all customers\")\n",
    "    print(\"5. Exit\")\n",
    "    \n",
    "    choice = input(\"Select an operation (1-5): \")\n",
    "    \n",
    "    if choice == '1':\n",
    "        customer_id = input(\"Enter customer ID: \")\n",
    "        first_name = input(\"Enter customer's first name: \")\n",
    "        last_name = input(\"Enter customer's last name: \")\n",
    "        email = input(\"Enter customer's email address: \")\n",
    "        phone = input(\"Enter customer's phone number: \")\n",
    "        \n",
    "        customer_info = {'First Name': first_name, 'Last Name': last_name, 'Email': email, 'Phone': phone}\n",
    "        customers[customer_id] = customer_info\n",
    "        print(\"New customer added.\")\n",
    "    elif choice == '2':\n",
    "        customer_id = input(\"Enter customer ID to update: \")\n",
    "        if customer_id in customers:\n",
    "            print(\"Current customer information:\")\n",
    "            print(customers[customer_id])\n",
    "            first_name = input(\"Enter new first name (Leave empty if you don't want to change): \")\n",
    "            last_name = input(\"Enter new last name (Leave empty if you don't want to change): \")\n",
    "            email = input(\"Enter new email address (Leave empty if you don't want to change): \")\n",
    "            phone = input(\"Enter new phone number (Leave empty if you don't want to change): \")\n",
    "            \n",
    "            if first_name:\n",
    "                customers[customer_id]['First Name'] = first_name\n",
    "            if last_name:\n",
    "                customers[customer_id]['Last Name'] = last_name\n",
    "            if email:\n",
    "                customers[customer_id]['Email'] = email\n",
    "            if phone:\n",
    "                customers[customer_id]['Phone'] = phone\n",
    "            \n",
    "            print(\"Customer information updated.\")\n",
    "        else:\n",
    "            print(\"Customer not found.\")\n",
    "    elif choice == '3':\n",
    "        customer_id = input(\"Enter customer ID to delete: \")\n",
    "        if customer_id in customers:\n",
    "            del customers[customer_id]\n",
    "            print(\"Customer deleted.\")\n",
    "        else:\n",
    "            print(\"Customer not found.\")\n",
    "    elif choice == '4':\n",
    "        if customers:\n",
    "            for customer_id, customer_info in customers.items():\n",
    "                print(f\"Customer ID: {customer_id}, First Name: {customer_info['First Name']}, Last Name: {customer_info['Last Name']}, Email: {customer_info['Email']}, Phone: {customer_info['Phone']}\")\n",
    "        else:\n",
    "            print(\"No customers found.\")\n",
    "    elif choice == '5':\n",
    "        print(\"Exiting...\")\n",
    "        break\n",
    "    else:\n",
    "        print(\"Invalid choice. Please try again.\")\n"
   ]
  }
 ],
 "metadata": {
  "kernelspec": {
   "display_name": "Python 3",
   "language": "python",
   "name": "python3"
  },
  "language_info": {
   "codemirror_mode": {
    "name": "ipython",
    "version": 3
   },
   "file_extension": ".py",
   "mimetype": "text/x-python",
   "name": "python",
   "nbconvert_exporter": "python",
   "pygments_lexer": "ipython3",
   "version": "3.12.1"
  }
 },
 "nbformat": 4,
 "nbformat_minor": 2
}
