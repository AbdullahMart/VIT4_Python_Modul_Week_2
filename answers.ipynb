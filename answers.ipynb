{
 "cells": [
  {
   "cell_type": "code",
   "execution_count": null,
   "metadata": {},
   "outputs": [],
   "source": [
    "# VIT4_Python_Modul_Week_2"
   ]
  },
  {
   "cell_type": "markdown",
   "metadata": {},
   "source": [
    "###  Soru1: Öğrenci Notları İşleme\n",
    "\n",
    "Bir öğrenci notlarını işlemek için bir Python programı yazmanız gerekiyor. Programın aşağıdaki işlevleri yerine getirmesi gerekiyor:\n",
    "\n",
    "Bir sözlük kullanarak 10 öğrencinin bilgilerini ve notlarını saklayın. Her öğrencinin adı, soyadı ve notları(Vize, Final ve Sozlu notu) olsun. Örneğin:\n",
    "\n",
    "![resim](https://github.com/werhereitacademy/week_2/assets/141542413/dc91b4b6-a51c-4f5f-80a3-854d505ce48a)\n",
    "\n",
    "1-Her öğrencinin not ortalamasını hesaplayın ve sözlüğe ekleyin.\n",
    "\n",
    "2-En yüksek not ortalamasına sahip öğrenciyi bulun ve ekrana yazdırın.\n",
    "\n",
    "3-Her öğrencinin adını soyadından ayırarak ayrı bir tuple içinde saklayın ve bunları bir listeye ekleyin.\n",
    "\n",
    "4-Adları alfabetik sıraya göre sıralayın ve sıralanmış listeyi ekrana yazdırın.\n",
    "\n",
    "5-Not ortalaması 70'in altında olan öğrencileri bir küme (set) içinde saklayın."
   ]
  },
  {
   "cell_type": "code",
   "execution_count": 4,
   "metadata": {
    "tags": [
     "1.Sorunun Cevabı:"
    ]
   },
   "outputs": [],
   "source": [
    "students= {\n",
    "    \"Ahmet Yılmaz\": [85, 90, 78],\n",
    "    \"Mehmet Demir\": [92, 88, 76],\n",
    "    \"Ayşe Kaya\"   : [78, 89, 95],\n",
    "    \"Ferhat Taş\"  : [90, 68, 70],\n",
    "    \"Pelin Sarı\"  : [88, 95, 90],\n",
    "    \"Selim Gök\"   : [95, 75, 85],\n",
    "    \"Osma Arslan\" : [90, 82, 88],\n",
    "    \"Fatma Güzel\" : [73, 78, 68],\n",
    "    \"Cem Erken\"   : [82, 72, 92],\n",
    "    \"Barış Koç\"   : [92, 82, 99]\n",
    "    \n",
    "    }\n",
    "\n",
    "    "
   ]
  },
  {
   "cell_type": "markdown",
   "metadata": {},
   "source": [
    "###  Soru 2 : Film Kütüphanesi Yönetim Sistemi Projesi\n",
    "\n",
    "Proje Açıklaması: Bu proje, kullanıcının kendi film koleksiyonunu yönetmesine yardımcı olacak bir uygulama oluşturmayı amaçlar. Kullanıcılar filmleri ekleyebilir, düzenleyebilir, silebilir ve koleksiyonlarını görüntüleyebilir.\n",
    "\n",
    "Kullanılan Veri Yapıları: Sözlükler (filmleri ve ilgili bilgileri saklamak için), listeler (film koleksiyonunu görüntülemek için)\n",
    "\n",
    "Temel İşlevler:\n",
    "\n",
    "1-Kullanıcıdan film adı, yönetmen, yayın yılı ve tür gibi bilgileri alarak bir film verisi oluşturun ve bunu bir sözlükte saklayın.\n",
    "\n",
    "2-Kullanıcıya bir filmi düzenleme veya silme seçeneği sunun.(Bunun icin filme ait hangi veriyi degistirmek istiyorlarsa ona uygun bir fonksiyon yazilmasi gerekir.)\n",
    "\n",
    "3-Kullanıcının koleksiyonunu görüntülemesine izin verin. Tüm filmleri listeleyin veya tür veya yayın yılı gibi kriterlere göre filtreleyin.\n",
    "\n",
    "4-Film verilerini bir dosyada saklayın ve programı başlattığınızda bu veriyi geri yükleyin."
   ]
  },
  {
   "cell_type": "code",
   "execution_count": null,
   "metadata": {
    "tags": [
     "2. Sorunun Cevabı:",
     "ilk taslak"
    ]
   },
   "outputs": [
    {
     "name": "stdout",
     "output_type": "stream",
     "text": [
      "\"\n",
      "|=====Movie Library Management System======[-][o][x]\n",
      "|           M O V I E   M  E  N  U                 | \n",
      "|   1- Add Movie                                   | \n",
      "|   2- Edit Movie                                  | \n",
      "|   3- Wiew Collection                             | \n",
      "|   4- Delete Movie                                | \n",
      "|   5- Exit                                        | \n",
      "|               version 1.02                       |       \n",
      "|           copyright@vit4 group2                  |\n",
      "|==================================================| \n"
     ]
    }
   ],
   "source": [
    "print(\"\"\"\"\n",
    "|=====Movie Library Management System======[-][o][x]\n",
    "|           M O V I E   M  E  N  U                 | \n",
    "|   1- Add Movie                                   | \n",
    "|   2- Edit Movie                                  | \n",
    "|   3- Wiew Collection                             | \n",
    "|   4- Delete Movie                                | \n",
    "|   5- Exit                                        | \n",
    "|               version 1.02                       |       \n",
    "|           copyright@vit4 group2                  |\n",
    "|==================================================| \"\"\")\n",
    "\n",
    "\n",
    "movie_collection={}\n",
    "\n",
    "def add_movie():\n",
    "    movie_name= input (\"Enter the Movie Name:\")\n",
    "    director= input(\"Enter the Director:\")\n",
    "    release_year= input(\"Enter the Release Year:\")\n",
    "    genre = input(\"Enter the Genre :\")\n",
    "\n",
    "    movie_dictionary= {\n",
    "        \"Movie\": movie_name,\n",
    "        \"Director\": director,\n",
    "        \"Release Year\": release_year,\n",
    "        \"Genre\": genre\n",
    "        }\n",
    "\n",
    "    movie_collection[movie_name]= movie_dictionary\n",
    "    print(f\"({movie_name}) added to the collection\")\n",
    "\n",
    "def edit_movie (movie_name):\n",
    "    if movie_name in movie_collection:\n",
    "        print(f\"Editing {movie_name}...\")\n",
    "        new_data = {}\n",
    "        new_data['Movie']= input(f\"Enter a new movie({ movie_collection[movie_name]['Movie']}):\")\n",
    "        new_data['Director']= input(f\"Enter a New Director ({movie_collection[movie_name]['Director']}):\")\n",
    "        new_data['Release Year']= input(f\"Enter a New Release Year ({movie_collection[movie_name]['Release Year']}):\")\n",
    "        new_data['Genre']= input(f\"Enter a New Genre ({movie_collection[movie_name]['Genre']}):\")\n",
    "\n",
    "        movie_collection[movie_name]= new_data\n",
    "        print(f\"({new_data}) uptaded\")\n",
    "    else:\n",
    "        print(f\"({movie_name}) not found in the collection.\")\n",
    "\n",
    "def view_collection():\n",
    "    print(\"\\nMovie Collection:\")\n",
    "    for movie_name, data in movie_collection.items():\n",
    "        print(f\"Movie Name: {data['Movie']}\")\n",
    "        print(f\"Director: {data['Director']}\")\n",
    "        print(f\"Release Year: {data['Release Year']}\")\n",
    "        print(f\"Genre: {data['Genre']}\")\n",
    "        print(\"-\" * 30)\n",
    "\n",
    "def delete_movie (movie_name):\n",
    "    if movie_name in movie_collection:\n",
    "        del movie_collection[movie_name]\n",
    "        print(f\"{movie_name} deleted from the collection.\")\n",
    "    else:\n",
    "        print(f\"{movie_name} not found in the collection.\")\n",
    "\n",
    "import json\n",
    "\n",
    "\n",
    "def save_data(filename):\n",
    "    with open(filename, 'w') as file:\n",
    "        json.dump(movie_collection, file)\n",
    "\n",
    "def load_data(filename):\n",
    "    try:\n",
    "        with open(filename, 'r') as file:\n",
    "            return json.load(file)\n",
    "    except FileNotFoundError:\n",
    "        return {}\n",
    "\n",
    "def main():\n",
    "    global movie_collection\n",
    "    movie_collection = load_data('movie_data.json')\n",
    "\n",
    "    while True:\n",
    "        menu_choose = input(\"Please choose a number: \")\n",
    "        print('=' * 51)\n",
    "\n",
    "        if menu_choose == \"1\":\n",
    "            add_movie()\n",
    "            print('=' * 51)\n",
    "\n",
    "        elif menu_choose == \"2\":\n",
    "            movie_name = input(\"Enter the film name to edit: \")\n",
    "            edit_movie(movie_name)\n",
    "            print('=' * 51)\n",
    "\n",
    "        elif menu_choose == \"3\":\n",
    "            view_collection()\n",
    "            print('=' * 51)\n",
    "\n",
    "        elif menu_choose == \"4\":\n",
    "            movie_name = input(\"Enter the Movie name to delete: \")\n",
    "            delete_movie(movie_name)\n",
    "            print('=' * 51)\n",
    "\n",
    "        elif menu_choose == \"5\":\n",
    "            save_data('movie_data.json')\n",
    "            print(\"Exiting the program\")\n",
    "            print('=' * 51)\n",
    "            break\n",
    "\n",
    "        else:\n",
    "            print(\"Invalid option! Please try again.\")\n",
    "            print('=' * 51)\n",
    "\n",
    "if __name__ == \"__main__\":\n",
    "    main()"
   ]
  },
  {
   "cell_type": "markdown",
   "metadata": {},
   "source": [
    "###  Soru 3 :Müşteri Yönetim Sistemi\n",
    "Proje Açıklaması: Bu proje, müşterilerinizi yönetmek ve temel işlemleri gerçekleştirmek için kullanabileceğiniz bir müşteri yönetim sistemi oluşturmanızı içerir. Bu sistem, müşteri bilgilerini saklama, yeni müşteri ekleyebilme, müşteri bilgilerini güncelleyebilme, müşteri silme ve müşteri listesini görüntüleme gibi temel işlevlere sahip olacaktır. İşte projenin temel adımları:\n",
    "\n",
    "1-Müşteri bilgilerini saklamak için bir sözlük yapısı kullanın. Her müşteri için bir benzersiz müşteri kimliği (ID) atayın ve müşteri bilgilerini bu kimlikle ilişkilendirin. Her müşteri için ad, soyad, e-posta, telefon gibi bilgileri içeren bir sözlük kullanabilirsiniz.\n",
    "\n",
    "2-Kullanıcıya aşağıdaki işlemleri seçebileceği bir menü sunun:\n",
    "\n",
    "* Yeni müşteri eklemek\n",
    "* Müşteri bilgilerini güncellemek\n",
    "* Müşteri silmek\n",
    "* Tüm müşterileri listelemek\n",
    "* Çıkış yapmak\n",
    "\n",
    "3-Kullanıcının seçimine göre ilgili işlemi gerçekleştirin. Örneğin, yeni müşteri eklerken kullanıcıdan gerekli bilgileri alın ve sözlüğe yeni bir müşteri ekleyin.\n",
    "\n",
    "4-Müşteri bilgilerini güncellerken, müşteri kimliğini kullanarak mevcut bilgileri görüntüleyin ve güncellenmiş bilgileri kaydedin.\n",
    "\n",
    "5-Müşteri silme işleminde kullanıcıdan müşteri kimliğini alın ve bu müşteriyi sözlükten silin.\n",
    "\n",
    "6-Tüm müşterileri listeleme işleminde, mevcut müşterilerin listesini görüntüleyin.\n",
    "\n",
    "7-Kullanıcı çıkış yapana kadar işlemleri tekrarlayın.  "
   ]
  },
  {
   "cell_type": "code",
   "execution_count": 7,
   "metadata": {
    "tags": [
     "3.Sorunun Cevabı"
    ]
   },
   "outputs": [
    {
     "name": "stdout",
     "output_type": "stream",
     "text": [
      "\n",
      "|=====Customer Management System====[-][o][x]\n",
      "|                                           |\n",
      "|       Welkome To Customer Management      |\n",
      "|             System Version 0.1            |\n",
      "|         Copyright@Vit 4 Group 2           |\n",
      "|                                           |\n",
      "|                                           |\n",
      "|===========================================|\n",
      "\n"
     ]
    }
   ],
   "source": [
    "print(\"\"\"\n",
    "|=====Customer Management System====[-][o][x]\n",
    "|                                           |\n",
    "|     Welkome To The Customer Management    |\n",
    "|             System Version 0.1            |\n",
    "|          Copyright@Vit 4 Group 2          |\n",
    "|                                           |\n",
    "|                                           |\n",
    "|===========================================|\n",
    "\"\"\")"
   ]
  }
 ],
 "metadata": {
  "kernelspec": {
   "display_name": "Python 3",
   "language": "python",
   "name": "python3"
  },
  "language_info": {
   "codemirror_mode": {
    "name": "ipython",
    "version": 3
   },
   "file_extension": ".py",
   "mimetype": "text/x-python",
   "name": "python",
   "nbconvert_exporter": "python",
   "pygments_lexer": "ipython3",
   "version": "3.12.2"
  }
 },
 "nbformat": 4,
 "nbformat_minor": 2
}
