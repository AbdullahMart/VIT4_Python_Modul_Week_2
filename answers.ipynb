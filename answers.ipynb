{
 "cells": [
  {
   "cell_type": "code",
   "execution_count": null,
   "metadata": {},
   "outputs": [],
   "source": [
    "# VIT4_Python_Modul_Week_2"
   ]
  },
  {
   "cell_type": "markdown",
   "metadata": {},
   "source": [
    "###  Soru1: Öğrenci Notları İşleme\n",
    "\n",
    "Bir öğrenci notlarını işlemek için bir Python programı yazmanız gerekiyor. Programın aşağıdaki işlevleri yerine getirmesi gerekiyor:\n",
    "\n",
    "Bir sözlük kullanarak 10 öğrencinin bilgilerini ve notlarını saklayın. Her öğrencinin adı, soyadı ve notları(Vize, Final ve Sozlu notu) olsun. Örneğin:\n",
    "\n",
    "![resim](https://github.com/werhereitacademy/week_2/assets/141542413/dc91b4b6-a51c-4f5f-80a3-854d505ce48a)\n",
    "\n",
    "1-Her öğrencinin not ortalamasını hesaplayın ve sözlüğe ekleyin.\n",
    "\n",
    "2-En yüksek not ortalamasına sahip öğrenciyi bulun ve ekrana yazdırın.\n",
    "\n",
    "3-Her öğrencinin adını soyadından ayırarak ayrı bir tuple içinde saklayın ve bunları bir listeye ekleyin.\n",
    "\n",
    "4-Adları alfabetik sıraya göre sıralayın ve sıralanmış listeyi ekrana yazdırın.\n",
    "\n",
    "5-Not ortalaması 70'in altında olan öğrencileri bir küme (set) içinde saklayın."
   ]
  },
  {
   "cell_type": "code",
   "execution_count": null,
   "metadata": {
    "tags": [
     "1.Sorunun Cevabı:"
    ]
   },
   "outputs": [],
   "source": []
  },
  {
   "cell_type": "markdown",
   "metadata": {},
   "source": [
    "###  Soru 2 : Film Kütüphanesi Yönetim Sistemi Projesi\n",
    "\n",
    "Proje Açıklaması: Bu proje, kullanıcının kendi film koleksiyonunu yönetmesine yardımcı olacak bir uygulama oluşturmayı amaçlar. Kullanıcılar filmleri ekleyebilir, düzenleyebilir, silebilir ve koleksiyonlarını görüntüleyebilir.\n",
    "\n",
    "Kullanılan Veri Yapıları: Sözlükler (filmleri ve ilgili bilgileri saklamak için), listeler (film koleksiyonunu görüntülemek için)\n",
    "\n",
    "Temel İşlevler:\n",
    "\n",
    "1-Kullanıcıdan film adı, yönetmen, yayın yılı ve tür gibi bilgileri alarak bir film verisi oluşturun ve bunu bir sözlükte saklayın.\n",
    "\n",
    "2-Kullanıcıya bir filmi düzenleme veya silme seçeneği sunun.(Bunun icin filme ait hangi veriyi degistirmek istiyorlarsa ona uygun bir fonksiyon yazilmasi gerekir.)\n",
    "\n",
    "3-Kullanıcının koleksiyonunu görüntülemesine izin verin. Tüm filmleri listeleyin veya tür veya yayın yılı gibi kriterlere göre filtreleyin.\n",
    "\n",
    "4-Film verilerini bir dosyada saklayın ve programı başlattığınızda bu veriyi geri yükleyin."
   ]
  },
  {
   "cell_type": "code",
   "execution_count": null,
   "metadata": {
    "tags": [
     "2. Sorunun Cevabı:"
    ]
   },
   "outputs": [],
   "source": [
    "movie_file=open(\"https://github.com/AbdullahMart/VIT4_Python_Modul_Week_2/blob/main/movie_library.txt\",\"w\")\n",
    "movie_file.write(\"deneme\")"
   ]
  },
  {
   "cell_type": "code",
   "execution_count": null,
   "metadata": {},
   "outputs": [],
   "source": []
  },
  {
   "cell_type": "markdown",
   "metadata": {},
   "source": [
    "###  Soru 3 :Müşteri Yönetim Sistemi\n",
    "Proje Açıklaması: Bu proje, müşterilerinizi yönetmek ve temel işlemleri gerçekleştirmek için kullanabileceğiniz bir müşteri yönetim sistemi oluşturmanızı içerir. Bu sistem, müşteri bilgilerini saklama, yeni müşteri ekleyebilme, müşteri bilgilerini güncelleyebilme, müşteri silme ve müşteri listesini görüntüleme gibi temel işlevlere sahip olacaktır. İşte projenin temel adımları:\n",
    "\n",
    "1-Müşteri bilgilerini saklamak için bir sözlük yapısı kullanın. Her müşteri için bir benzersiz müşteri kimliği (ID) atayın ve müşteri bilgilerini bu kimlikle ilişkilendirin. Her müşteri için ad, soyad, e-posta, telefon gibi bilgileri içeren bir sözlük kullanabilirsiniz.\n",
    "\n",
    "2-Kullanıcıya aşağıdaki işlemleri seçebileceği bir menü sunun:\n",
    "\n",
    "* Yeni müşteri eklemek\n",
    "* Müşteri bilgilerini güncellemek\n",
    "* Müşteri silmek\n",
    "* Tüm müşterileri listelemek\n",
    "* Çıkış yapmak\n",
    "\n",
    "3-Kullanıcının seçimine göre ilgili işlemi gerçekleştirin. Örneğin, yeni müşteri eklerken kullanıcıdan gerekli bilgileri alın ve sözlüğe yeni bir müşteri ekleyin.\n",
    "\n",
    "4-Müşteri bilgilerini güncellerken, müşteri kimliğini kullanarak mevcut bilgileri görüntüleyin ve güncellenmiş bilgileri kaydedin.\n",
    "\n",
    "5-Müşteri silme işleminde kullanıcıdan müşteri kimliğini alın ve bu müşteriyi sözlükten silin.\n",
    "\n",
    "6-Tüm müşterileri listeleme işleminde, mevcut müşterilerin listesini görüntüleyin.\n",
    "\n",
    "7-Kullanıcı çıkış yapana kadar işlemleri tekrarlayın.  "
   ]
  },
  {
   "cell_type": "code",
   "execution_count": null,
   "metadata": {
    "tags": [
     "3.Sorunun Cevabı"
    ]
   },
   "outputs": [],
   "source": []
  }
 ],
 "metadata": {
  "language_info": {
   "name": "python"
  }
 },
 "nbformat": 4,
 "nbformat_minor": 2
}
